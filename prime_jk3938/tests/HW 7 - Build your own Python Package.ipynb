{
 "cells": [
  {
   "cell_type": "markdown",
   "id": "4c6087a8",
   "metadata": {},
   "source": [
    "### Justin Ko\n",
    "### Professor Brambor\n",
    "### GR5072\n",
    "### 11/01/2023"
   ]
  },
  {
   "cell_type": "code",
   "execution_count": 5,
   "id": "2d731f3a",
   "metadata": {},
   "outputs": [
    {
     "name": "stdout",
     "output_type": "stream",
     "text": [
      "\u001b[1m============================= test session starts ==============================\u001b[0m\n",
      "platform darwin -- Python 3.11.4, pytest-7.4.0, pluggy-1.0.0 -- /Users/justin/anaconda3/bin/python\n",
      "cachedir: .pytest_cache\n",
      "hypothesis profile 'default' -> database=DirectoryBasedExampleDatabase(PosixPath('/Users/justin/Desktop/Ko_Justin/hw06/.hypothesis/examples'))\n",
      "rootdir: /Users/justin/Desktop/Ko_Justin/hw06\n",
      "plugins: hypothesis-6.88.1, anyio-3.5.0\n",
      "collected 15 items                                                             \u001b[0m\n",
      "\n",
      "test_prime.py::test_is_prime \u001b[32mPASSED\u001b[0m\u001b[32m                                      [  6%]\u001b[0m\n",
      "test_prime.py::test_is_prime_param[2-True] \u001b[32mPASSED\u001b[0m\u001b[32m                        [ 13%]\u001b[0m\n",
      "test_prime.py::test_is_prime_param[3-True] \u001b[32mPASSED\u001b[0m\u001b[32m                        [ 20%]\u001b[0m\n",
      "test_prime.py::test_is_prime_param[4-False] \u001b[32mPASSED\u001b[0m\u001b[32m                       [ 26%]\u001b[0m\n",
      "test_prime.py::test_is_prime_param[5-True] \u001b[32mPASSED\u001b[0m\u001b[32m                        [ 33%]\u001b[0m\n",
      "test_prime.py::test_is_prime_param[6-False] \u001b[32mPASSED\u001b[0m\u001b[32m                       [ 40%]\u001b[0m\n",
      "test_prime.py::test_is_prime_param[7-True] \u001b[32mPASSED\u001b[0m\u001b[32m                        [ 46%]\u001b[0m\n",
      "test_prime.py::test_is_prime_param[8-False] \u001b[32mPASSED\u001b[0m\u001b[32m                       [ 53%]\u001b[0m\n",
      "test_prime.py::test_is_prime_param[9-False] \u001b[32mPASSED\u001b[0m\u001b[32m                       [ 60%]\u001b[0m\n",
      "test_prime.py::test_is_prime_param[10-False] \u001b[32mPASSED\u001b[0m\u001b[32m                      [ 66%]\u001b[0m\n",
      "test_prime.py::test_is_prime_param[0-False] \u001b[32mPASSED\u001b[0m\u001b[32m                       [ 73%]\u001b[0m\n",
      "test_prime.py::test_is_prime_param[1-False] \u001b[32mPASSED\u001b[0m\u001b[32m                       [ 80%]\u001b[0m\n",
      "test_prime.py::test_is_prime_param[-5-False] \u001b[32mPASSED\u001b[0m\u001b[32m                      [ 86%]\u001b[0m\n",
      "test_prime.py::test_generate_primes \u001b[32mPASSED\u001b[0m\u001b[32m                               [ 93%]\u001b[0m\n",
      "test_prime.py::test_prime_integration \u001b[32mPASSED\u001b[0m\u001b[32m                             [100%]\u001b[0m\n",
      "\n",
      "\u001b[32m============================== \u001b[32m\u001b[1m15 passed\u001b[0m\u001b[32m in 0.23s\u001b[0m\u001b[32m ==============================\u001b[0m\n"
     ]
    }
   ],
   "source": [
    "!pytest test_prime.py -vv"
   ]
  }
 ],
 "metadata": {
  "kernelspec": {
   "display_name": "Python 3 (ipykernel)",
   "language": "python",
   "name": "python3"
  },
  "language_info": {
   "codemirror_mode": {
    "name": "ipython",
    "version": 3
   },
   "file_extension": ".py",
   "mimetype": "text/x-python",
   "name": "python",
   "nbconvert_exporter": "python",
   "pygments_lexer": "ipython3",
   "version": "3.9.12"
  }
 },
 "nbformat": 4,
 "nbformat_minor": 5
}
